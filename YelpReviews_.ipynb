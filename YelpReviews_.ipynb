{
  "cells": [
    {
      "cell_type": "markdown",
      "source": [
        "# **PROJECT IDS 561: SENTIMENTAL ANALYSIS OF YELP REVIEWS**"
      ],
      "metadata": {
        "id": "nXXAQwylEqeT"
      }
    },
    {
      "cell_type": "markdown",
      "metadata": {
        "id": "-E50cqAnxRIK"
      },
      "source": [
        "**LINKING THE COLAB TO GOOGLE DRIVE**"
      ]
    },
    {
      "cell_type": "code",
      "execution_count": null,
      "metadata": {
        "colab": {
          "base_uri": "https://localhost:8080/"
        },
        "id": "Dkf52nRAxS1R",
        "outputId": "c5114c3a-3843-4181-cb57-d1a72ffc9cb1"
      },
      "outputs": [
        {
          "output_type": "stream",
          "name": "stdout",
          "text": [
            "Mounted at /content/drive\n"
          ]
        }
      ],
      "source": [
        "from google.colab import drive\n",
        "drive.mount('/content/drive')"
      ]
    },
    {
      "cell_type": "code",
      "execution_count": null,
      "metadata": {
        "colab": {
          "base_uri": "https://localhost:8080/"
        },
        "id": "NPYstSk_xZQt",
        "outputId": "31b0fec1-55a7-40c5-f4d9-a8bf572fec88"
      },
      "outputs": [
        {
          "output_type": "stream",
          "name": "stdout",
          "text": [
            "/content/drive/My Drive/YelpReviews\n"
          ]
        }
      ],
      "source": [
        "%cd /content/drive/My Drive/YelpReviews"
      ]
    },
    {
      "cell_type": "code",
      "execution_count": null,
      "metadata": {
        "colab": {
          "base_uri": "https://localhost:8080/"
        },
        "id": "I__qIUlPxbdT",
        "outputId": "cda45d3b-a220-4d5e-ce4b-6d8561fe0b6b"
      },
      "outputs": [
        {
          "output_type": "stream",
          "name": "stdout",
          "text": [
            "yelp_academic_dataset_business.json  yelp_academic_dataset_user.json\n",
            "yelp_academic_dataset_review.json    YelpReviews.ipynb\n",
            "/content/drive/My Drive/YelpReviews\n"
          ]
        }
      ],
      "source": [
        "!ls\n",
        "!pwd"
      ]
    },
    {
      "cell_type": "markdown",
      "metadata": {
        "id": "eslWWFyBxgRq"
      },
      "source": [
        "**INSTALLING SPARK**"
      ]
    },
    {
      "cell_type": "code",
      "execution_count": null,
      "metadata": {
        "colab": {
          "base_uri": "https://localhost:8080/"
        },
        "id": "ap17IPZwqgU8",
        "outputId": "bc66f643-6fd2-41be-d808-43aade51680f"
      },
      "outputs": [
        {
          "output_type": "stream",
          "name": "stdout",
          "text": [
            "tar: spark-3.1.2-bin-hadoop3.2.tgz: Cannot open: No such file or directory\n",
            "tar: Error is not recoverable: exiting now\n",
            "Looking in indexes: https://pypi.org/simple, https://us-python.pkg.dev/colab-wheels/public/simple/\n",
            "Collecting pyspark\n",
            "  Downloading pyspark-3.3.1.tar.gz (281.4 MB)\n",
            "\u001b[K     |████████████████████████████████| 281.4 MB 44 kB/s \n",
            "\u001b[?25hCollecting py4j==0.10.9.5\n",
            "  Downloading py4j-0.10.9.5-py2.py3-none-any.whl (199 kB)\n",
            "\u001b[K     |████████████████████████████████| 199 kB 48.9 MB/s \n",
            "\u001b[?25hBuilding wheels for collected packages: pyspark\n",
            "  Building wheel for pyspark (setup.py) ... \u001b[?25l\u001b[?25hdone\n",
            "  Created wheel for pyspark: filename=pyspark-3.3.1-py2.py3-none-any.whl size=281845512 sha256=1667539598ae77fe2d054aee95f540e42da9231dfcb5a3192c39c1b9aa59df8d\n",
            "  Stored in directory: /root/.cache/pip/wheels/42/59/f5/79a5bf931714dcd201b26025347785f087370a10a3329a899c\n",
            "Successfully built pyspark\n",
            "Installing collected packages: py4j, pyspark\n",
            "Successfully installed py4j-0.10.9.5 pyspark-3.3.1\n"
          ]
        }
      ],
      "source": [
        "!tar -xvf spark-3.1.2-bin-hadoop3.2.tgz\n",
        "\n",
        "# Installing the library to install the spark in python\n",
        "!pip install -q findspark\n",
        "!pip install pyspark"
      ]
    },
    {
      "cell_type": "markdown",
      "metadata": {
        "id": "Fb3jIHLHyPz_"
      },
      "source": [
        "**IMPORTING LIBRARIES TO BE USED IN THE PROJECT**"
      ]
    },
    {
      "cell_type": "code",
      "execution_count": null,
      "metadata": {
        "id": "8AJZLzOCqjZ3"
      },
      "outputs": [],
      "source": [
        "import re\n",
        "import sys\n",
        "import string\n",
        "import pandas as pd\n",
        "from pyspark import SparkConf, SparkContext, HiveContext\n",
        "from pyspark.mllib.recommendation import ALS, MatrixFactorizationModel, Rating\n",
        "from heapq import nlargest\n",
        "import matplotlib.pyplot as plt\n"
      ]
    },
    {
      "cell_type": "code",
      "execution_count": null,
      "metadata": {
        "id": "SBDfoeJ8q_ZI",
        "colab": {
          "base_uri": "https://localhost:8080/"
        },
        "outputId": "ec44c342-4fa4-4834-f3da-01b7c7e73f1a"
      },
      "outputs": [
        {
          "output_type": "stream",
          "name": "stdout",
          "text": [
            "Welcome to\n",
            "      ____              __\n",
            "     / __/__  ___ _____/ /__\n",
            "    _\\ \\/ _ \\/ _ `/ __/  '_/\n",
            "   /__ / .__/\\_,_/_/ /_/\\_\\   version 3.3.1\n",
            "      /_/\n",
            "\n",
            "Using Python version 3.7.15 (default, Oct 12 2022 19:14:55)\n",
            "Spark context Web UI available at http://d26f28c71da0:4040\n",
            "Spark context available as 'sc' (master = local[*], app id = local-1669611164337).\n",
            "SparkSession available as 'spark'.\n"
          ]
        }
      ],
      "source": [
        "#importing libraries for spark\n",
        "from pyspark import *\n",
        "from pyspark.python.pyspark.shell import spark\n",
        "from pyspark.sql.functions import *\n",
        "from datetime import datetime\n",
        "from pyspark.sql.functions import udf, to_date, to_utc_timestamp, lit, col\n",
        "from pyspark.sql.types import StringType, DateType\n",
        "from pyspark import SparkContext\n",
        "from pyspark.sql import SQLContext"
      ]
    },
    {
      "cell_type": "code",
      "execution_count": null,
      "metadata": {
        "id": "1gYgKyvM3A5E"
      },
      "outputs": [],
      "source": [
        "from pyspark.sql.functions import split,explode\n",
        "from pyspark.sql.functions import *\n",
        "from pyspark.sql.functions import udf\n",
        "from pyspark.sql.types import IntegerType\n",
        "\n",
        "from pyspark.mllib.classification import SVMModel, SVMWithSGD\n",
        "from pyspark.mllib.regression import LabeledPoint\n",
        "from pyspark.mllib.linalg import Vectors as MLLibVectors\n",
        "from pyspark.ml import Pipeline\n",
        "from pyspark.ml.evaluation import BinaryClassificationEvaluator, MulticlassClassificationEvaluator\n",
        "from pyspark.ml.feature import * \n",
        "from pyspark.ml.feature import IDF\n",
        "from pyspark.ml.tuning import CrossValidator\n",
        "from pyspark.ml.tuning import ParamGridBuilder\n",
        "\n",
        "\n",
        "from nltk.stem.porter import *\n",
        "from nltk.tokenize import word_tokenize, sent_tokenize\n",
        "from nltk.corpus import stopwords\n",
        "\n",
        "from pyspark.mllib.classification import SVMModel, SVMWithSGD\n",
        "from pyspark.mllib.regression import LabeledPoint\n",
        "from pyspark.mllib.linalg import Vectors as MLLibVectors\n"
      ]
    },
    {
      "cell_type": "code",
      "source": [
        "# importing libraries for pyspark.ml features and clustering\n",
        "from pyspark.ml.feature import StandardScaler\n",
        "from pyspark.ml.clustering import KMeans\n",
        "from pyspark.ml.evaluation import ClusteringEvaluator"
      ],
      "metadata": {
        "id": "PAotKQgbHeKY"
      },
      "execution_count": null,
      "outputs": []
    },
    {
      "cell_type": "code",
      "source": [
        "from wordcloud import WordCloud, STOPWORDS"
      ],
      "metadata": {
        "id": "7XJ39f6syLfu"
      },
      "execution_count": null,
      "outputs": []
    },
    {
      "cell_type": "markdown",
      "metadata": {
        "id": "0-FAPLUOyVlc"
      },
      "source": [
        "**INITIALISING A LOCAL SPARK SESSION**"
      ]
    },
    {
      "cell_type": "code",
      "execution_count": null,
      "metadata": {
        "id": "somnxkATq3Y2"
      },
      "outputs": [],
      "source": [
        "# Opening local Spark session\n",
        "import findspark\n",
        "findspark.init()\n",
        "from pyspark.sql import SparkSession\n",
        "sprk = SparkSession.builder.master(\"local[*]\").getOrCreate()"
      ]
    },
    {
      "cell_type": "markdown",
      "source": [
        "# **DATA EXPLORATION ANALYSIS**"
      ],
      "metadata": {
        "id": "qLUs7M34E1Ve"
      }
    },
    {
      "cell_type": "markdown",
      "metadata": {
        "id": "vDVuAIEZybN6"
      },
      "source": [
        "**LOADING DATASETS**"
      ]
    },
    {
      "cell_type": "code",
      "execution_count": null,
      "metadata": {
        "id": "ClfC0bRErHNo",
        "colab": {
          "base_uri": "https://localhost:8080/",
          "height": 380
        },
        "outputId": "e5f08c7e-528f-4dbe-da79-2a88c27fdb04"
      },
      "outputs": [
        {
          "output_type": "error",
          "ename": "AnalysisException",
          "evalue": "ignored",
          "traceback": [
            "\u001b[0;31m---------------------------------------------------------------------------\u001b[0m",
            "\u001b[0;31mAnalysisException\u001b[0m                         Traceback (most recent call last)",
            "\u001b[0;32m<ipython-input-15-8485cadad112>\u001b[0m in \u001b[0;36m<module>\u001b[0;34m\u001b[0m\n\u001b[1;32m      1\u001b[0m \u001b[0;31m#import yelp review data into dataframe\u001b[0m\u001b[0;34m\u001b[0m\u001b[0;34m\u001b[0m\u001b[0;34m\u001b[0m\u001b[0m\n\u001b[0;32m----> 2\u001b[0;31m \u001b[0myelp_review\u001b[0m \u001b[0;34m=\u001b[0m \u001b[0mspark\u001b[0m\u001b[0;34m.\u001b[0m\u001b[0mread\u001b[0m\u001b[0;34m.\u001b[0m\u001b[0mjson\u001b[0m\u001b[0;34m(\u001b[0m\u001b[0;34m'/content/drive/My Drive/YelpReviews/yelp_academic_dataset_review.json'\u001b[0m\u001b[0;34m)\u001b[0m\u001b[0;34m\u001b[0m\u001b[0;34m\u001b[0m\u001b[0m\n\u001b[0m\u001b[1;32m      3\u001b[0m \u001b[0;31m# import yelp business data into dataframe\u001b[0m\u001b[0;34m\u001b[0m\u001b[0;34m\u001b[0m\u001b[0;34m\u001b[0m\u001b[0m\n\u001b[1;32m      4\u001b[0m \u001b[0myelp_business\u001b[0m \u001b[0;34m=\u001b[0m \u001b[0mspark\u001b[0m\u001b[0;34m.\u001b[0m\u001b[0mread\u001b[0m\u001b[0;34m.\u001b[0m\u001b[0mjson\u001b[0m\u001b[0;34m(\u001b[0m\u001b[0;34m'/content/drive/My Drive/YelpReviews/yelp_academic_dataset_business.json'\u001b[0m\u001b[0;34m)\u001b[0m\u001b[0;34m\u001b[0m\u001b[0;34m\u001b[0m\u001b[0m\n\u001b[1;32m      5\u001b[0m \u001b[0;31m# import yelp user data into dataframe\u001b[0m\u001b[0;34m\u001b[0m\u001b[0;34m\u001b[0m\u001b[0;34m\u001b[0m\u001b[0m\n",
            "\u001b[0;32m/usr/local/lib/python3.7/dist-packages/pyspark/sql/readwriter.py\u001b[0m in \u001b[0;36mjson\u001b[0;34m(self, path, schema, primitivesAsString, prefersDecimal, allowComments, allowUnquotedFieldNames, allowSingleQuotes, allowNumericLeadingZero, allowBackslashEscapingAnyCharacter, mode, columnNameOfCorruptRecord, dateFormat, timestampFormat, multiLine, allowUnquotedControlChars, lineSep, samplingRatio, dropFieldIfAllNull, encoding, locale, pathGlobFilter, recursiveFileLookup, modifiedBefore, modifiedAfter, allowNonNumericNumbers)\u001b[0m\n\u001b[1;32m    282\u001b[0m         \u001b[0;32mif\u001b[0m \u001b[0mtype\u001b[0m\u001b[0;34m(\u001b[0m\u001b[0mpath\u001b[0m\u001b[0;34m)\u001b[0m \u001b[0;34m==\u001b[0m \u001b[0mlist\u001b[0m\u001b[0;34m:\u001b[0m\u001b[0;34m\u001b[0m\u001b[0;34m\u001b[0m\u001b[0m\n\u001b[1;32m    283\u001b[0m             \u001b[0;32massert\u001b[0m \u001b[0mself\u001b[0m\u001b[0;34m.\u001b[0m\u001b[0m_spark\u001b[0m\u001b[0;34m.\u001b[0m\u001b[0m_sc\u001b[0m\u001b[0;34m.\u001b[0m\u001b[0m_jvm\u001b[0m \u001b[0;32mis\u001b[0m \u001b[0;32mnot\u001b[0m \u001b[0;32mNone\u001b[0m\u001b[0;34m\u001b[0m\u001b[0;34m\u001b[0m\u001b[0m\n\u001b[0;32m--> 284\u001b[0;31m             \u001b[0;32mreturn\u001b[0m \u001b[0mself\u001b[0m\u001b[0;34m.\u001b[0m\u001b[0m_df\u001b[0m\u001b[0;34m(\u001b[0m\u001b[0mself\u001b[0m\u001b[0;34m.\u001b[0m\u001b[0m_jreader\u001b[0m\u001b[0;34m.\u001b[0m\u001b[0mjson\u001b[0m\u001b[0;34m(\u001b[0m\u001b[0mself\u001b[0m\u001b[0;34m.\u001b[0m\u001b[0m_spark\u001b[0m\u001b[0;34m.\u001b[0m\u001b[0m_sc\u001b[0m\u001b[0;34m.\u001b[0m\u001b[0m_jvm\u001b[0m\u001b[0;34m.\u001b[0m\u001b[0mPythonUtils\u001b[0m\u001b[0;34m.\u001b[0m\u001b[0mtoSeq\u001b[0m\u001b[0;34m(\u001b[0m\u001b[0mpath\u001b[0m\u001b[0;34m)\u001b[0m\u001b[0;34m)\u001b[0m\u001b[0;34m)\u001b[0m\u001b[0;34m\u001b[0m\u001b[0;34m\u001b[0m\u001b[0m\n\u001b[0m\u001b[1;32m    285\u001b[0m         \u001b[0;32melif\u001b[0m \u001b[0misinstance\u001b[0m\u001b[0;34m(\u001b[0m\u001b[0mpath\u001b[0m\u001b[0;34m,\u001b[0m \u001b[0mRDD\u001b[0m\u001b[0;34m)\u001b[0m\u001b[0;34m:\u001b[0m\u001b[0;34m\u001b[0m\u001b[0;34m\u001b[0m\u001b[0m\n\u001b[1;32m    286\u001b[0m \u001b[0;34m\u001b[0m\u001b[0m\n",
            "\u001b[0;32m/usr/local/lib/python3.7/dist-packages/py4j/java_gateway.py\u001b[0m in \u001b[0;36m__call__\u001b[0;34m(self, *args)\u001b[0m\n\u001b[1;32m   1320\u001b[0m         \u001b[0manswer\u001b[0m \u001b[0;34m=\u001b[0m \u001b[0mself\u001b[0m\u001b[0;34m.\u001b[0m\u001b[0mgateway_client\u001b[0m\u001b[0;34m.\u001b[0m\u001b[0msend_command\u001b[0m\u001b[0;34m(\u001b[0m\u001b[0mcommand\u001b[0m\u001b[0;34m)\u001b[0m\u001b[0;34m\u001b[0m\u001b[0;34m\u001b[0m\u001b[0m\n\u001b[1;32m   1321\u001b[0m         return_value = get_return_value(\n\u001b[0;32m-> 1322\u001b[0;31m             answer, self.gateway_client, self.target_id, self.name)\n\u001b[0m\u001b[1;32m   1323\u001b[0m \u001b[0;34m\u001b[0m\u001b[0m\n\u001b[1;32m   1324\u001b[0m         \u001b[0;32mfor\u001b[0m \u001b[0mtemp_arg\u001b[0m \u001b[0;32min\u001b[0m \u001b[0mtemp_args\u001b[0m\u001b[0;34m:\u001b[0m\u001b[0;34m\u001b[0m\u001b[0;34m\u001b[0m\u001b[0m\n",
            "\u001b[0;32m/usr/local/lib/python3.7/dist-packages/pyspark/sql/utils.py\u001b[0m in \u001b[0;36mdeco\u001b[0;34m(*a, **kw)\u001b[0m\n\u001b[1;32m    194\u001b[0m                 \u001b[0;31m# Hide where the exception came from that shows a non-Pythonic\u001b[0m\u001b[0;34m\u001b[0m\u001b[0;34m\u001b[0m\u001b[0;34m\u001b[0m\u001b[0m\n\u001b[1;32m    195\u001b[0m                 \u001b[0;31m# JVM exception message.\u001b[0m\u001b[0;34m\u001b[0m\u001b[0;34m\u001b[0m\u001b[0;34m\u001b[0m\u001b[0m\n\u001b[0;32m--> 196\u001b[0;31m                 \u001b[0;32mraise\u001b[0m \u001b[0mconverted\u001b[0m \u001b[0;32mfrom\u001b[0m \u001b[0;32mNone\u001b[0m\u001b[0;34m\u001b[0m\u001b[0;34m\u001b[0m\u001b[0m\n\u001b[0m\u001b[1;32m    197\u001b[0m             \u001b[0;32melse\u001b[0m\u001b[0;34m:\u001b[0m\u001b[0;34m\u001b[0m\u001b[0;34m\u001b[0m\u001b[0m\n\u001b[1;32m    198\u001b[0m                 \u001b[0;32mraise\u001b[0m\u001b[0;34m\u001b[0m\u001b[0;34m\u001b[0m\u001b[0m\n",
            "\u001b[0;31mAnalysisException\u001b[0m: Path does not exist: file:/content/drive/My Drive/YelpReviews/yelp_academic_dataset_review.json"
          ]
        }
      ],
      "source": [
        "#import yelp review data into dataframe\n",
        "yelp_review = spark.read.json('/content/drive/My Drive/YelpReviews/yelp_academic_dataset_review.json')\n",
        "# import yelp business data into dataframe\n",
        "yelp_business = spark.read.json('/content/drive/My Drive/YelpReviews/yelp_academic_dataset_business.json')\n",
        "# import yelp user data into dataframe\n",
        "yelp_user = spark.read.json('/content/drive/My Drive/YelpReviews/yelp_academic_dataset_user.json')"
      ]
    },
    {
      "cell_type": "markdown",
      "metadata": {
        "id": "z9HV_N-nza2b"
      },
      "source": [
        "**DATA EXPLORATION**"
      ]
    },
    {
      "cell_type": "code",
      "execution_count": null,
      "metadata": {
        "id": "tA59TcbIzaOo"
      },
      "outputs": [],
      "source": [
        "yelp_business.show(5)\n",
        "yelp_review.show(5)\n",
        "yelp_user.show(5)"
      ]
    },
    {
      "cell_type": "code",
      "execution_count": null,
      "metadata": {
        "id": "870IwtDv0OpD"
      },
      "outputs": [],
      "source": [
        "yelp_business.dtypes\n",
        "yelp_review.dtypes\n",
        "yelp_user.dtypes"
      ]
    },
    {
      "cell_type": "code",
      "execution_count": null,
      "metadata": {
        "id": "2nrNDuhV4DPp"
      },
      "outputs": [],
      "source": [
        "print(\"Number of reviews: {}\".format(yelp_review.count()))\n",
        "print(\"Number of business: {}\".format(yelp_business.count()))\n",
        "print(\"Number of users: {}\".format(yelp_user.count()))"
      ]
    },
    {
      "cell_type": "markdown",
      "metadata": {
        "id": "8ajzeI_S2Q9i"
      },
      "source": [
        "**1. The top 'most reviewed' businesses**"
      ]
    },
    {
      "cell_type": "code",
      "execution_count": null,
      "metadata": {
        "id": "_uz8QszA0kmX"
      },
      "outputs": [],
      "source": [
        "# Inorder to look at the reviews and their count we filter the data for which star rating is greater than 3\n",
        "review_filtered = yelp_review.filter('stars >3')\n",
        "grouped_review = review_filtered.groupby('business_id').count()\n",
        "sort_review = grouped_review.sort('count',ascending=False)\n",
        "\n",
        "business_1 = yelp_business.select('business_id','name','categories')\n",
        "review_business_name = business_1.join(sort_review,'business_id','inner')\n",
        "business_reviewed = review_business_name.limit(10)\n",
        "business_reviewed.show()"
      ]
    },
    {
      "cell_type": "markdown",
      "metadata": {
        "id": "Xk1dhPKz0NsB"
      },
      "source": [
        "**2. The count of top business categories/industries**"
      ]
    },
    {
      "cell_type": "code",
      "execution_count": null,
      "metadata": {
        "id": "aLvukE8S27mB"
      },
      "outputs": [],
      "source": [
        "category = yelp_business.select('categories')\n",
        "individual_category = category.select(explode(split('categories', ',')).alias('category'))\n",
        "grouped_category = individual_category.groupby('category').count()\n",
        "top_category = grouped_category.sort('count',ascending=False)\n",
        "top_category.show(10,truncate=False)"
      ]
    },
    {
      "cell_type": "markdown",
      "metadata": {
        "id": "lpAJtTb33i5g"
      },
      "source": [
        "**3. Count of different star ratings in our dataset**"
      ]
    },
    {
      "cell_type": "code",
      "execution_count": null,
      "metadata": {
        "id": "YNln7rEH3jOX"
      },
      "outputs": [],
      "source": [
        "rating = yelp_business.select('stars')\n",
        "group_rating = rating.groupby('stars').count()\n",
        "rating_top = group_rating.sort('count',ascending=False)\n",
        "rating_top = rating_top.show(truncate=False)\n",
        "\n"
      ]
    },
    {
      "cell_type": "markdown",
      "metadata": {
        "id": "kPoJYINa3vx5"
      },
      "source": [
        "**4. Top cities with maximum number of businesses**"
      ]
    },
    {
      "cell_type": "code",
      "execution_count": null,
      "metadata": {
        "id": "w5brH86x3uiI"
      },
      "outputs": [],
      "source": [
        "locations = yelp_business.select('business_id','city')\n",
        "review_city = yelp_review.select('business_id')\n",
        "merge_city = locations.join(review_city,'business_id','inner')\n",
        "grouped_review_city = merge_city.groupby('city').count()\n",
        "most_reviewed_city = grouped_review_city.groupby('city').sum()\n",
        "most_reviewed_city.sort('sum(count)',ascending=False).show(10)"
      ]
    },
    {
      "cell_type": "markdown",
      "metadata": {
        "id": "rRbcKFec4kZU"
      },
      "source": [
        "**5. Printing the number of reviews we have for each star rating**"
      ]
    },
    {
      "cell_type": "code",
      "execution_count": null,
      "metadata": {
        "id": "i7KqwBLd4BPJ"
      },
      "outputs": [],
      "source": [
        "yelp_review_1= yelp_review.groupBy('stars').agg(count('review_id').alias('count')).sort('stars').show()"
      ]
    },
    {
      "cell_type": "code",
      "source": [
        "yelp_business.toPandas()\n",
        "type(yelp_business)\n",
        "import plotly.express as px\n",
        "temp123=yelp_review.toPandas()\n",
        "temp456=pd.DataFrame(temp123['stars'].value_counts())\n",
        "temp456.reset_index(inplace=True)\n",
        "fig = px.bar(temp456, x=temp456['index'], y=temp456['stars'], labels={ \"index\": \"Star Rating\", \"stars\": \"Count\" },title=\"Count of different star ratings in our dataset\")\n",
        "#plt.bar(tom123,temp456['stars'])\n",
        "fig.show()"
      ],
      "metadata": {
        "id": "_9qxGLoLmH8g"
      },
      "execution_count": null,
      "outputs": []
    },
    {
      "cell_type": "code",
      "source": [
        "# Checking for null values\n",
        "yelp_review.printSchema()"
      ],
      "metadata": {
        "id": "MDydFG9dukYb"
      },
      "execution_count": null,
      "outputs": []
    },
    {
      "cell_type": "markdown",
      "metadata": {
        "id": "oa_gp7864VSq"
      },
      "source": [
        "# **TEXT ANALYSIS: SENTIMENTAL ANALYSIS PRE PROCESSING**"
      ]
    },
    {
      "cell_type": "markdown",
      "metadata": {
        "id": "am947nyE4wnR"
      },
      "source": [
        "**For sentimental analysis, we first need to pre process our comments**\n"
      ]
    },
    {
      "cell_type": "markdown",
      "metadata": {
        "id": "MYxkFNF_48Ml"
      },
      "source": [
        "**STEP 1. Remove punctuations**"
      ]
    },
    {
      "cell_type": "code",
      "execution_count": null,
      "metadata": {
        "id": "teoCVsn64rHd"
      },
      "outputs": [],
      "source": [
        "def remove_punct(text):\n",
        "    regex = re.compile('[' + re.escape(string.punctuation) + '0-9\\\\r\\\\t\\\\n]')\n",
        "    nopunct = regex.sub(\" \", text) \n",
        "    return nopunct"
      ]
    },
    {
      "cell_type": "markdown",
      "metadata": {
        "id": "Tl0N_amS5KYW"
      },
      "source": [
        "**STEP 2. Split the ratings at threshold =3 to classify them as positive or negative sentiment**"
      ]
    },
    {
      "cell_type": "code",
      "execution_count": null,
      "metadata": {
        "id": "AS25C9Ji5H4S",
        "colab": {
          "base_uri": "https://localhost:8080/",
          "height": 235
        },
        "outputId": "2e50978f-8441-4ec0-97a4-8285fe44f3bc"
      },
      "outputs": [
        {
          "output_type": "error",
          "ename": "NameError",
          "evalue": "ignored",
          "traceback": [
            "\u001b[0;31m---------------------------------------------------------------------------\u001b[0m",
            "\u001b[0;31mNameError\u001b[0m                                 Traceback (most recent call last)",
            "\u001b[0;32m<ipython-input-13-330529d42426>\u001b[0m in \u001b[0;36m<module>\u001b[0;34m\u001b[0m\n\u001b[1;32m      9\u001b[0m \u001b[0;34m\u001b[0m\u001b[0m\n\u001b[1;32m     10\u001b[0m \u001b[0;31m# apply to review raw data\u001b[0m\u001b[0;34m\u001b[0m\u001b[0;34m\u001b[0m\u001b[0;34m\u001b[0m\u001b[0m\n\u001b[0;32m---> 11\u001b[0;31m \u001b[0mreview_df\u001b[0m \u001b[0;34m=\u001b[0m \u001b[0myelp_review\u001b[0m\u001b[0;34m.\u001b[0m\u001b[0mselect\u001b[0m\u001b[0;34m(\u001b[0m\u001b[0;34m'review_id'\u001b[0m\u001b[0;34m,\u001b[0m \u001b[0mpunct_remover\u001b[0m\u001b[0;34m(\u001b[0m\u001b[0;34m'text'\u001b[0m\u001b[0;34m)\u001b[0m\u001b[0;34m,\u001b[0m \u001b[0mrating_convert\u001b[0m\u001b[0;34m(\u001b[0m\u001b[0;34m'stars'\u001b[0m\u001b[0;34m)\u001b[0m\u001b[0;34m)\u001b[0m\u001b[0;34m\u001b[0m\u001b[0;34m\u001b[0m\u001b[0m\n\u001b[0m\u001b[1;32m     12\u001b[0m \u001b[0;34m\u001b[0m\u001b[0m\n\u001b[1;32m     13\u001b[0m \u001b[0mreview_df\u001b[0m \u001b[0;34m=\u001b[0m \u001b[0mreview_df\u001b[0m\u001b[0;34m.\u001b[0m\u001b[0mwithColumnRenamed\u001b[0m\u001b[0;34m(\u001b[0m\u001b[0;34m'<lambda>(text)'\u001b[0m\u001b[0;34m,\u001b[0m \u001b[0;34m'text'\u001b[0m\u001b[0;34m)\u001b[0m\u001b[0;31m\\\u001b[0m\u001b[0;34m\u001b[0m\u001b[0;34m\u001b[0m\u001b[0m\n",
            "\u001b[0;31mNameError\u001b[0m: name 'yelp_review' is not defined"
          ]
        }
      ],
      "source": [
        "def convert_rating(rating):\n",
        "    rating = int(rating)\n",
        "    if rating >=3: return 1\n",
        "    else: return 0\n",
        "\n",
        "# Generating user-defined functions to remove punctuation and convert rating \n",
        "punct_remover = udf(lambda x: remove_punct(x))\n",
        "rating_convert = udf(lambda x: convert_rating(x))\n",
        "\n",
        "# apply to review raw data\n",
        "review_df = yelp_review.select('review_id', punct_remover('text'), rating_convert('stars'))\n",
        "\n",
        "review_df = review_df.withColumnRenamed('<lambda>(text)', 'text')\\\n",
        "                     .withColumn('label', review_df[\"<lambda>(stars)\"].cast(IntegerType()))\\\n",
        "                     .drop('<lambda>(stars)')\\\n",
        "                     .limit(1000000)"
      ]
    },
    {
      "cell_type": "code",
      "source": [
        "review_df.show(5)"
      ],
      "metadata": {
        "id": "1IeAYbf-d0MX"
      },
      "execution_count": null,
      "outputs": []
    },
    {
      "cell_type": "markdown",
      "metadata": {
        "id": "__HZ4i3A90Xf"
      },
      "source": [
        "**STEP 3. Tokenizing the comments and removing stop words**"
      ]
    },
    {
      "cell_type": "code",
      "execution_count": null,
      "metadata": {
        "id": "wQ58GOd690Dl"
      },
      "outputs": [],
      "source": [
        "# tokenize\n",
        "tok = Tokenizer(inputCol=\"text\", outputCol=\"words\")\n",
        "review_tokenized = tok.transform(review_df)\n",
        "\n",
        "# remove stop words\n",
        "stopword_rm = StopWordsRemover(inputCol='words', outputCol='words_new')\n",
        "review_tokenized = stopword_rm.transform(review_tokenized)"
      ]
    },
    {
      "cell_type": "code",
      "source": [
        "review_tokenized.show(5)"
      ],
      "metadata": {
        "id": "GyEJkqAc-aMg"
      },
      "execution_count": null,
      "outputs": []
    },
    {
      "cell_type": "markdown",
      "metadata": {
        "id": "bbwbTPrU9IG8"
      },
      "source": [
        "**FEATURE EXTRACTION**"
      ]
    },
    {
      "cell_type": "markdown",
      "metadata": {
        "id": "MwGx2MJc9LJ8"
      },
      "source": [
        "For feature selection, we have used CountVectorisation and tf-Idf (term frequency and inverse document frequency) "
      ]
    },
    {
      "cell_type": "markdown",
      "metadata": {
        "id": "ing2tQGw9i_L"
      },
      "source": [
        "**STEP 4: Count vectorisation** helps to extract features by converting text into vectors based on the count of its appearance. \n",
        "It is useful for multiple documents to provide a matrix."
      ]
    },
    {
      "cell_type": "code",
      "execution_count": null,
      "metadata": {
        "id": "OygKj0Tj9ZI2"
      },
      "outputs": [],
      "source": [
        "# count vectorizer\n",
        "cv = CountVectorizer(inputCol='words_new', outputCol='tf')\n",
        "cvModel = cv.fit(review_tokenized)\n",
        "count_vectorized = cvModel.transform(review_tokenized)"
      ]
    },
    {
      "cell_type": "code",
      "source": [
        "count_vectorized.show(5)"
      ],
      "metadata": {
        "id": "zh1jljAi-bsB"
      },
      "execution_count": null,
      "outputs": []
    },
    {
      "cell_type": "code",
      "execution_count": null,
      "metadata": {
        "id": "9WBHfcF7-a2k"
      },
      "outputs": [],
      "source": [
        "# tf-idf\n",
        "idf = IDF().setInputCol('tf').setOutputCol('tfidf')\n",
        "tfidfModel = idf.fit(count_vectorized)\n",
        "tfidf_df = tfidfModel.transform(count_vectorized)"
      ]
    },
    {
      "cell_type": "code",
      "execution_count": null,
      "metadata": {
        "id": "8m84qnmd4S0w"
      },
      "outputs": [],
      "source": [
        "tfidf_df.show(5)"
      ]
    },
    {
      "cell_type": "markdown",
      "source": [
        "# **SUPERVISED LEARNING - PREDICTIVE MODELING**"
      ],
      "metadata": {
        "id": "iIryaYc0Ef__"
      }
    },
    {
      "cell_type": "markdown",
      "metadata": {
        "id": "vED152s6_5lh"
      },
      "source": [
        "**Split the data into train test data sets in the ratio 80-20%**"
      ]
    },
    {
      "cell_type": "code",
      "execution_count": null,
      "metadata": {
        "id": "esbg1_3V_4pR",
        "colab": {
          "base_uri": "https://localhost:8080/",
          "height": 200
        },
        "outputId": "a8eba16b-c454-4140-80b1-24d58eb908d7"
      },
      "outputs": [
        {
          "output_type": "error",
          "ename": "NameError",
          "evalue": "ignored",
          "traceback": [
            "\u001b[0;31m---------------------------------------------------------------------------\u001b[0m",
            "\u001b[0;31mNameError\u001b[0m                                 Traceback (most recent call last)",
            "\u001b[0;32m<ipython-input-21-f1b6f88d3913>\u001b[0m in \u001b[0;36m<module>\u001b[0;34m\u001b[0m\n\u001b[0;32m----> 1\u001b[0;31m \u001b[0msplits\u001b[0m \u001b[0;34m=\u001b[0m \u001b[0mtfidf_df\u001b[0m\u001b[0;34m.\u001b[0m\u001b[0mselect\u001b[0m\u001b[0;34m(\u001b[0m\u001b[0;34m[\u001b[0m\u001b[0;34m'tfidf'\u001b[0m\u001b[0;34m,\u001b[0m \u001b[0;34m'label'\u001b[0m\u001b[0;34m]\u001b[0m\u001b[0;34m)\u001b[0m\u001b[0;34m.\u001b[0m\u001b[0mrandomSplit\u001b[0m\u001b[0;34m(\u001b[0m\u001b[0;34m[\u001b[0m\u001b[0;36m0.8\u001b[0m\u001b[0;34m,\u001b[0m\u001b[0;36m0.2\u001b[0m\u001b[0;34m]\u001b[0m\u001b[0;34m,\u001b[0m\u001b[0mseed\u001b[0m\u001b[0;34m=\u001b[0m\u001b[0;36m100\u001b[0m\u001b[0;34m)\u001b[0m\u001b[0;34m\u001b[0m\u001b[0;34m\u001b[0m\u001b[0m\n\u001b[0m\u001b[1;32m      2\u001b[0m \u001b[0mtrain\u001b[0m \u001b[0;34m=\u001b[0m \u001b[0msplits\u001b[0m\u001b[0;34m[\u001b[0m\u001b[0;36m0\u001b[0m\u001b[0;34m]\u001b[0m\u001b[0;34m.\u001b[0m\u001b[0mcache\u001b[0m\u001b[0;34m(\u001b[0m\u001b[0;34m)\u001b[0m\u001b[0;34m\u001b[0m\u001b[0;34m\u001b[0m\u001b[0m\n\u001b[1;32m      3\u001b[0m \u001b[0mtest\u001b[0m \u001b[0;34m=\u001b[0m \u001b[0msplits\u001b[0m\u001b[0;34m[\u001b[0m\u001b[0;36m1\u001b[0m\u001b[0;34m]\u001b[0m\u001b[0;34m.\u001b[0m\u001b[0mcache\u001b[0m\u001b[0;34m(\u001b[0m\u001b[0;34m)\u001b[0m\u001b[0;34m\u001b[0m\u001b[0;34m\u001b[0m\u001b[0m\n",
            "\u001b[0;31mNameError\u001b[0m: name 'tfidf_df' is not defined"
          ]
        }
      ],
      "source": [
        "splits = tfidf_df.select(['tfidf', 'label']).randomSplit([0.8,0.2],seed=100)\n",
        "train = splits[0].cache()\n",
        "test = splits[1].cache()"
      ]
    },
    {
      "cell_type": "code",
      "execution_count": null,
      "metadata": {
        "id": "ptQiQGN4AGya"
      },
      "outputs": [],
      "source": [
        "# convert to LabeledPoint vectors\n",
        "train_lb = train.rdd.map(lambda row: LabeledPoint(row[1], MLLibVectors.fromML(row[0])))\n",
        "test_lb = test.rdd.map(lambda row: LabeledPoint(row[1], MLLibVectors.fromML(row[0])))"
      ]
    },
    {
      "cell_type": "markdown",
      "source": [
        "### **NAIVE BAYES**"
      ],
      "metadata": {
        "id": "D-BnLiDC159i"
      }
    },
    {
      "cell_type": "code",
      "source": [
        "from pyspark.ml.classification import NaiveBayes\n",
        "nb = NaiveBayes(smoothing=1.0, modelType=\"multinomial\", weightCol=\"weight\")"
      ],
      "metadata": {
        "id": "IlP-B12518I5"
      },
      "execution_count": null,
      "outputs": []
    },
    {
      "cell_type": "code",
      "source": [
        "from pyspark.ml.feature import Tokenizer, RegexTokenizer"
      ],
      "metadata": {
        "id": "dSrDS48uFLm2"
      },
      "execution_count": null,
      "outputs": []
    },
    {
      "cell_type": "code",
      "source": [
        "stages = []\n",
        "# 1. clean data and tokenize sentences using RegexTokenizer\n",
        "regexTokenizer = RegexTokenizer(inputCol=\"text\", outputCol=\"tokens\", pattern=\"\\\\W+\")\n",
        "stages += [regexTokenizer]\n",
        "\n",
        "# 2. CountVectorize the data\n",
        "cv = CountVectorizer(inputCol=\"tokens\", outputCol=\"token_features\", minDF=2.0)#, vocabSize=3, minDF=2.0\n",
        "stages += [cv]\n",
        "\n",
        "# 3. Convert the labels to numerical values using binariser\n",
        "indexer = StringIndexer(inputCol=\"label\", outputCol=\"label1\")\n",
        "stages += [indexer]\n",
        "\n",
        "# 4. Vectorise features using vectorassembler\n",
        "vecAssembler = VectorAssembler(inputCols=['token_features'], outputCol=\"features\")\n",
        "stages += [vecAssembler]\n",
        "\n",
        "[print('\\n', stage) for stage in stages]"
      ],
      "metadata": {
        "id": "_vJ1lGJ1E8Qk"
      },
      "execution_count": null,
      "outputs": []
    },
    {
      "cell_type": "code",
      "source": [
        "from pyspark.ml import Pipeline\n",
        "pipeline = Pipeline(stages=stages)\n",
        "data = pipeline.fit(tfidf_df).transform(tfidf_df)"
      ],
      "metadata": {
        "id": "EtgG6hzdEgrj"
      },
      "execution_count": null,
      "outputs": []
    },
    {
      "cell_type": "code",
      "source": [
        "train_nb, test_nb = data.randomSplit([0.8, 0.2], seed = 2018)"
      ],
      "metadata": {
        "id": "C66RLDLFGkfA"
      },
      "execution_count": null,
      "outputs": []
    },
    {
      "cell_type": "code",
      "source": [
        "nb = NaiveBayes(smoothing=1.0, modelType=\"multinomial\")\n",
        "model_nb = nb.fit(train_nb)"
      ],
      "metadata": {
        "id": "5c7Tw7bY2J_w"
      },
      "execution_count": null,
      "outputs": []
    },
    {
      "cell_type": "code",
      "source": [
        "predictions = model_nb.transform(test_nb)\n",
        "# Select results to view\n",
        "predictions.limit(10).select(\"label\", \"prediction\", \"probability\").show(truncate=False)"
      ],
      "metadata": {
        "id": "js7dLb2LIzlt"
      },
      "execution_count": null,
      "outputs": []
    },
    {
      "cell_type": "markdown",
      "source": [
        "Model Evaluation"
      ],
      "metadata": {
        "id": "dz7-PZ0PLnKb"
      }
    },
    {
      "cell_type": "code",
      "source": [
        "from pyspark.ml.evaluation import BinaryClassificationEvaluator\n",
        "\n",
        "evaluator = BinaryClassificationEvaluator(rawPredictionCol=\"prediction\")\n",
        "accuracy = evaluator.evaluate(predictions)\n",
        "print (\"Test Area Under ROC: \", accuracy)"
      ],
      "metadata": {
        "id": "ikiVzq51LpOg"
      },
      "execution_count": null,
      "outputs": []
    },
    {
      "cell_type": "markdown",
      "metadata": {
        "id": "51TG0eE8BUc-"
      },
      "source": [
        "### **LOGISTIC REGRESSION**"
      ]
    },
    {
      "cell_type": "code",
      "source": [
        "lr = LogisticRegression(featuresCol = 'scaledFeat', labelCol = 'label', maxIter=10)\n",
        "lrModel = lr.fit(train_nb)   "
      ],
      "metadata": {
        "id": "DL8F7qPDQhIA"
      },
      "execution_count": null,
      "outputs": []
    },
    {
      "cell_type": "code",
      "execution_count": null,
      "metadata": {
        "id": "qyHLiJExBZoS"
      },
      "outputs": [],
      "source": [
        "lrModel = lr.fit(train)\n",
        "lr_pred = lrModel.transform(test)\n",
        "f1_eval = MulticlassClassificationEvaluator(labelCol=\"label\", predictionCol=\"prediction\", metricName=\"f1\")\n",
        "lr_f1 = f1_eval.evaluate(lr_pred)\n",
        "print(\"F1 score: %.4f\" % lr_f1)"
      ]
    },
    {
      "cell_type": "markdown",
      "metadata": {
        "id": "eu74Xm9XIt7C"
      },
      "source": [
        "### **RANDOM FOREST**"
      ]
    },
    {
      "cell_type": "code",
      "execution_count": null,
      "metadata": {
        "id": "EsEz2QxfH2sL"
      },
      "outputs": [],
      "source": [
        "from pyspark.ml.classification import (DecisionTreeClassifier, RandomForestClassifier, \n",
        "                                      GBTClassifier)\n",
        "from pyspark.ml import Pipeline\n"
      ]
    },
    {
      "cell_type": "code",
      "source": [
        "# Creating a vector assembly \n",
        "assembler = VectorAssembler(inputCols=['tfidf'], outputCol='features')\n",
        "final_data = assembler.transform(tfidf_df)"
      ],
      "metadata": {
        "id": "_6pUfRaA_nHe"
      },
      "execution_count": null,
      "outputs": []
    },
    {
      "cell_type": "code",
      "source": [
        "final_data.printSchema()"
      ],
      "metadata": {
        "id": "KZdMHaSnARpk"
      },
      "execution_count": null,
      "outputs": []
    },
    {
      "cell_type": "code",
      "source": [
        "# Scaling the data \n",
        "scaler = StandardScaler(inputCol='features',outputCol='scaledFeat')\n",
        "final_data = scaler.fit(final_data).transform(final_data)"
      ],
      "metadata": {
        "id": "fVhUuswDAYJa"
      },
      "execution_count": null,
      "outputs": []
    },
    {
      "cell_type": "code",
      "source": [
        "from pyspark.ml.feature import StringIndexer\n",
        "\n",
        "indexer = StringIndexer(inputCol = 'label', outputCol = 'label1')\n",
        "outputFixed = indexer.fit(final_data).transform(final_data)\n",
        "outputFixed.printSchema()"
      ],
      "metadata": {
        "id": "93Eq06TTYvDt"
      },
      "execution_count": null,
      "outputs": []
    },
    {
      "cell_type": "code",
      "source": [
        "final_df = outputFixed.select('scaledFeat', 'label1')\n",
        "final_df.show(3)"
      ],
      "metadata": {
        "id": "HytMYCz1hwMI"
      },
      "execution_count": null,
      "outputs": []
    },
    {
      "cell_type": "code",
      "source": [
        "train_gb, test_gb = final_df.randomSplit([0.8, 0.2])"
      ],
      "metadata": {
        "id": "xVsmzDVOh6DR"
      },
      "execution_count": null,
      "outputs": []
    },
    {
      "cell_type": "code",
      "source": [
        "# Building the random forest model\n",
        "gb = GBTClassifier(labelCol = 'label1', featuresCol = 'scaledFeat')\n",
        "gb_model = gb.fit(train_gb)"
      ],
      "metadata": {
        "id": "Lb8eSASai4Tk"
      },
      "execution_count": null,
      "outputs": []
    },
    {
      "cell_type": "code",
      "source": [
        "rf_predictions = rf_model.transform(test)"
      ],
      "metadata": {
        "id": "GAIjXeBzr6q9"
      },
      "execution_count": null,
      "outputs": []
    },
    {
      "cell_type": "code",
      "source": [
        "from pyspark.ml.evaluation import BinaryClassificationEvaluator\n",
        "\n",
        "binary_evaluator = BinaryClassificationEvaluator(labelCol = 'label1')"
      ],
      "metadata": {
        "id": "4Qq5voqlr-nS"
      },
      "execution_count": null,
      "outputs": []
    },
    {
      "cell_type": "code",
      "source": [
        "print('Random Forest:' , binary_evaluator.evaluate(rf_predictions))"
      ],
      "metadata": {
        "id": "gNitx93ysEl2"
      },
      "execution_count": null,
      "outputs": []
    },
    {
      "cell_type": "markdown",
      "metadata": {
        "id": "wQ9rBFf0rMMe"
      },
      "source": [
        "## **SUPPORT VECTOR MACHINE**"
      ]
    },
    {
      "cell_type": "code",
      "execution_count": null,
      "metadata": {
        "id": "l3zRN_m-rT_l"
      },
      "outputs": [],
      "source": [
        "# SVM model\n",
        "numIterations = 50\n",
        "regParam = 0.3\n",
        "svm = SVMWithSGD.train(train_lb, numIterations, regParam=regParam)\n",
        "\n",
        "# predict\n",
        "test_lb = test.rdd.map(lambda row: LabeledPoint(row[1], MLLibVectors.fromML(row[0])))\n",
        "scoreAndLabels_test = test_lb.map(lambda x: (float(svm.predict(x.features)), x.label))\n",
        "score_label_test = spark.createDataFrame(scoreAndLabels_test, [\"prediction\", \"label\"])"
      ]
    },
    {
      "cell_type": "code",
      "execution_count": null,
      "metadata": {
        "id": "ezwo22zArU1j"
      },
      "outputs": [],
      "source": [
        "#Model Evaluation\n",
        "f1_eval = MulticlassClassificationEvaluator(labelCol=\"label\", predictionCol=\"prediction\", metricName=\"f1\")\n",
        "svm_f1 = f1_eval.evaluate(score_label_test)\n",
        "print(\"F1 score: %.4f\" % svm_f1)"
      ]
    },
    {
      "cell_type": "code",
      "execution_count": null,
      "metadata": {
        "id": "3jECJBJKrY7l"
      },
      "outputs": [],
      "source": [
        "vocabulary = cvModel.vocabulary\n",
        "weights = svm.weights.toArray()\n",
        "svm_coeffs_df = pd.DataFrame({'word': vocabulary, 'weight': weights})\n",
        "\n",
        "svm_coeffs_df.sort_values('weight').head(20)"
      ]
    },
    {
      "cell_type": "markdown",
      "source": [
        "# **UNSUPERVISED LEARNING**"
      ],
      "metadata": {
        "id": "lPBW6b0WuXS7"
      }
    },
    {
      "cell_type": "markdown",
      "source": [
        "## **K Means Clustering**"
      ],
      "metadata": {
        "id": "QQ21BSyF7s2_"
      }
    },
    {
      "cell_type": "markdown",
      "source": [
        "***Trial Basis: KMeans model for k=2***"
      ],
      "metadata": {
        "id": "lw1_DOXHIirN"
      }
    },
    {
      "cell_type": "code",
      "source": [
        "# Using the scaled features from random forest\n",
        "# Built a kmeans model at k =2 (Trial basis) \n",
        "kmeans = KMeans(featuresCol='scaledFeat',k=2)\n",
        "model = kmeans.fit(final_data)"
      ],
      "metadata": {
        "id": "H3X_r6BeCJrk"
      },
      "execution_count": null,
      "outputs": []
    },
    {
      "cell_type": "code",
      "source": [
        "results = model.transform(final_data)\n",
        "centers = model.clusterCenters()"
      ],
      "metadata": {
        "id": "Vo2seImbH0_h"
      },
      "execution_count": null,
      "outputs": []
    },
    {
      "cell_type": "code",
      "source": [
        "print(centers)"
      ],
      "metadata": {
        "id": "wpizJdtBIdV8"
      },
      "execution_count": null,
      "outputs": []
    },
    {
      "cell_type": "code",
      "source": [
        "results.printSchema()"
      ],
      "metadata": {
        "id": "dQM57kp9Hwxf"
      },
      "execution_count": null,
      "outputs": []
    },
    {
      "cell_type": "code",
      "source": [
        "results.show()"
      ],
      "metadata": {
        "id": "8E6pdyo2H5eh"
      },
      "execution_count": null,
      "outputs": []
    },
    {
      "cell_type": "code",
      "source": [
        "results.groupBy('prediction').count().show()"
      ],
      "metadata": {
        "id": "I9TpiDowH_ev"
      },
      "execution_count": null,
      "outputs": []
    },
    {
      "cell_type": "markdown",
      "source": [
        "**Finding the Optimal Value of K using Silhouette score**"
      ],
      "metadata": {
        "id": "Te6cVhDFIuaO"
      }
    },
    {
      "cell_type": "code",
      "source": [
        "kmax = 0 \n",
        "evaluator = ClusteringEvaluator(featuresCol='features', metricName='silhouette')\n",
        "score_max = 0\n",
        "\n",
        "krange = list(range(2,8))\n",
        "values =[]\n",
        "for k in krange:\n",
        "    # Train a k-means model\n",
        "    kmeans_model = KMeans(featuresCol='features', k=k)\n",
        "    model = kmeans_model.fit(final_data)\n",
        "\n",
        "    KMeans_predictions = model.transform(final_data) \n",
        "\n",
        "    # Evaluate clustering by computing Silhouette score\n",
        "    score = evaluator.evaluate(KMeans_predictions)\n",
        "    print(\"k = \"+ str(k) + \",Silhouette Score = \" + str(score))\n",
        "\n",
        "\n",
        "\n",
        "    values.append(score)\n",
        "\n",
        "    if score > score_max:\n",
        "      score_max = score\n",
        "      k_max=k"
      ],
      "metadata": {
        "id": "8_hYUOoGDt0q"
      },
      "execution_count": null,
      "outputs": []
    },
    {
      "cell_type": "code",
      "source": [
        "import pandas as pd\n",
        "score =  [0.5148280169514748,0.4163537337358346,0.2610103923814839,0.25993469933444124, 0.260963632062401, 0.2183115111261353]"
      ],
      "metadata": {
        "id": "BuFvbwWrnPwP"
      },
      "execution_count": null,
      "outputs": []
    },
    {
      "cell_type": "code",
      "source": [
        "import matplotlib.pyplot as plt\n",
        "plt.style.use(\"fivethirtyeight\")\n",
        "plt.plot(range(2, 8), score)\n",
        "plt.xticks(range(2, 9))\n",
        "plt.xlabel(\"Number of Clusters\")\n",
        "plt.ylabel(\"Silhouette Coefficient\")\n",
        "plt.show()"
      ],
      "metadata": {
        "id": "I2QmuisuLmla"
      },
      "execution_count": null,
      "outputs": []
    },
    {
      "cell_type": "markdown",
      "source": [
        "*Choosing k = 3 because it has a good silhouette coefficient as k=2 gives us overfit data*"
      ],
      "metadata": {
        "id": "fLMbDlSMM9kI"
      }
    },
    {
      "cell_type": "code",
      "source": [
        "# Built a kmeans model at k =3 \n",
        "kmeans = KMeans(featuresCol='scaledFeat',k=3)\n",
        "model1 = kmeans.fit(final_data)"
      ],
      "metadata": {
        "id": "G_1Dx_6_M9R7"
      },
      "execution_count": null,
      "outputs": []
    },
    {
      "cell_type": "code",
      "source": [
        "results = model1.transform(final_data)\n",
        "centers = model1.clusterCenters()\n",
        "print(centers)"
      ],
      "metadata": {
        "id": "lsQty3RxOTVt"
      },
      "execution_count": null,
      "outputs": []
    },
    {
      "cell_type": "code",
      "source": [
        "results.show()"
      ],
      "metadata": {
        "id": "TDWulXvKiSVz"
      },
      "execution_count": null,
      "outputs": []
    },
    {
      "cell_type": "code",
      "source": [
        "results.groupBy('prediction').count().show()"
      ],
      "metadata": {
        "id": "TWyFG3vKOa31"
      },
      "execution_count": null,
      "outputs": []
    },
    {
      "cell_type": "markdown",
      "metadata": {
        "id": "MoMtkiNtrW9f"
      },
      "source": [
        "# **RECOMMENDER SYSTEM** "
      ]
    },
    {
      "cell_type": "markdown",
      "metadata": {
        "id": "BfjaiWpuramj"
      },
      "source": [
        "***Results until now***: \n",
        "\n",
        "![Screenshot 2022-11-13 at 7.08.17 PM.png](data:image/png;base64,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)\n",
        "\n",
        "![Screenshot 2022-11-13 at 7.08.26 PM.png](data:image/png;base64,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)"
      ]
    },
    {
      "cell_type": "markdown",
      "metadata": {
        "id": "YxZElkv_r6df"
      },
      "source": [
        "As we have explored our data, we found that 'Philadelphia' has most reviewed businesses and 'Restaurants' category is most reviewed. So we will try to build a recommender system trained on the reviewed restaurants in Philadelphia. \n",
        "\n",
        "We expect our system to recommend a user a restaurant according to his/her preferences in Philadelphia."
      ]
    },
    {
      "cell_type": "code",
      "execution_count": null,
      "metadata": {
        "id": "DSr4oy-9rSjh"
      },
      "outputs": [],
      "source": [
        "# We found that business dataset has some columns which has missing values and do not add any value to our model\n",
        "\n",
        "yelp_business = yelp_business.select('business_id','name', 'stars', \n",
        "                                 'review_count', 'attributes', \n",
        "                                 'categories', 'city').withColumnRenamed('stars', 'stars_restaurant')\n",
        "\n",
        "yelp_business = yelp_business.filter((yelp_business['city'] == 'Philadelphia') & (yelp_business.categories.contains('Restaurants'))).drop('city')"
      ]
    },
    {
      "cell_type": "code",
      "execution_count": null,
      "metadata": {
        "id": "_ECuVLywuRQu"
      },
      "outputs": [],
      "source": [
        "# We filter the business dataset and apply inner join it with review dataset to perform the factorization algorithm \n",
        "yelp_restaurant_review = yelp_review.select('*')\n",
        "yelp_restaurant_review = yelp_restaurant_review.join(yelp_business, on='business_id', how='inner')\n",
        "yelp_restaurant_review.select(['business_id', 'user_id', 'stars']).show(5)"
      ]
    },
    {
      "cell_type": "markdown",
      "source": [
        "**VISUALIZATIONS**"
      ],
      "metadata": {
        "id": "dqITMsKRikow"
      }
    },
    {
      "cell_type": "code",
      "execution_count": null,
      "metadata": {
        "id": "5JKFU--guyzM"
      },
      "outputs": [],
      "source": [
        "# Plotting a histogram of frequency of star ratings of restaurants from review dataset\n",
        "%matplotlib inline\n",
        "reviews = yelp_restaurant_review.select('stars').collect()\n",
        "review_list = [reviews[i][0] for i in range(len(reviews))]\n",
        "plt.hist(review_list, bins=[0.5,1.5,2.5,3.5,4.5,5.5], alpha=0.5,\n",
        "         histtype='stepfilled', color='pink',\n",
        "         edgecolor='none')\n",
        "plt.ylabel('Frequency')\n",
        "plt.xlabel('Rating')\n",
        "plt.style.use('seaborn-white')"
      ]
    },
    {
      "cell_type": "code",
      "execution_count": null,
      "metadata": {
        "id": "0fNSHIMwxtI-"
      },
      "outputs": [],
      "source": [
        "# Plotting a histogram of frequency of different star rating restaurants from the business dataset\n",
        "restaurant_reviews = yelp_business.select('stars_restaurant').collect()\n",
        "restaurant_reviews_list = [restaurant_reviews[i][0] for i in range(len(restaurant_reviews))]\n",
        "plt.hist(restaurant_reviews_list, bins=[0.5,1.5,2.5,3.5,4.5,5.5], alpha=0.5,\n",
        "         histtype='stepfilled', color='purple',\n",
        "         edgecolor='none')\n",
        "plt.ylabel('Frequency')\n",
        "plt.xlabel('Rating')\n",
        "plt.style.use('seaborn-white')"
      ]
    },
    {
      "cell_type": "code",
      "execution_count": null,
      "metadata": {
        "id": "h4lt_xFLyLR_"
      },
      "outputs": [],
      "source": [
        "# Defining the categories of restaurants \n",
        "restaurant_categories = yelp_business.select('categories').collect()\n",
        "restaurant_categories_list = [restaurant_categories[i][0] for i in range(len(restaurant_categories))]\n",
        "print(restaurant_categories_list)"
      ]
    },
    {
      "cell_type": "markdown",
      "metadata": {
        "id": "qfCAuJZgyyHE"
      },
      "source": [
        "**WORDCLOUD**"
      ]
    },
    {
      "cell_type": "code",
      "execution_count": null,
      "metadata": {
        "id": "KJ2KI2poyuCP"
      },
      "outputs": [],
      "source": [
        "# Define words from review\n",
        "word = \" \".join(review for review in restaurant_categories_list)\n",
        "from wordcloud import WordCloud, STOPWORDS, ImageColorGenerator\n",
        "# elimiminating some common words\n",
        "text = word.replace('Restaurants', \"\")\n",
        "text = word.replace('bars', \"\")\n",
        "text = word.replace('New', \"\")\n",
        "text = word.replace('Food', \"\")\n",
        "text = word.replace('Planning', \"\")\n",
        "text = word.replace('Arts', \"\")\n",
        "text = word.replace('Entertainment', \"\")\n",
        "# Generate a word cloud image\n",
        "wordcloud = WordCloud(background_color=\"white\").generate(text)\n",
        "plt.figure(figsize=(10,8))\n",
        "plt.imshow(wordcloud, interpolation='bilinear')\n",
        "plt.axis(\"off\")\n",
        "plt.show()"
      ]
    },
    {
      "cell_type": "markdown",
      "metadata": {
        "id": "M5lAMOLazKmk"
      },
      "source": [
        "We find the words FOOD, AMERICAN, BREAKFAST and BRUNCH are maximum used words in the reviews"
      ]
    },
    {
      "cell_type": "markdown",
      "source": [
        "**BUILDING THE RECOMMENDER SYSTEM**"
      ],
      "metadata": {
        "id": "3d725Z7QipWD"
      }
    },
    {
      "cell_type": "code",
      "execution_count": null,
      "metadata": {
        "id": "ZKxk6vJ6zUsb"
      },
      "outputs": [],
      "source": [
        "from pyspark.ml.feature import StringIndexer\n",
        "from pyspark.ml import Pipeline\n",
        "from pyspark.ml.evaluation import RegressionEvaluator\n",
        "from pyspark.sql.types import StructType,StructField,IntegerType"
      ]
    },
    {
      "cell_type": "code",
      "execution_count": null,
      "metadata": {
        "id": "lUmb4zcgzlMF"
      },
      "outputs": [],
      "source": [
        "# Converting and transforming data into dataframe\n",
        "\n",
        "indexer = [StringIndexer(inputCol=column, outputCol=column+\"_index\") for column in ['business_id', 'user_id']]\n",
        "pipeline = Pipeline(stages=indexer)\n",
        "transformed = pipeline.fit(yelp_restaurant_review).transform(yelp_restaurant_review)\n",
        "transformed.select(['business_id', 'user_id','business_id_index', 'user_id_index'])"
      ]
    },
    {
      "cell_type": "code",
      "execution_count": null,
      "metadata": {
        "id": "CQdy3gwN0Bir"
      },
      "outputs": [],
      "source": [
        "transformed.show(5)"
      ]
    },
    {
      "cell_type": "markdown",
      "metadata": {
        "id": "bFu6xw250HTK"
      },
      "source": [
        "**SPLIT THE DATA INTO TRAIN AND TEST DATASETS**"
      ]
    },
    {
      "cell_type": "code",
      "execution_count": null,
      "metadata": {
        "id": "52hIJp_k0Glp"
      },
      "outputs": [],
      "source": [
        "# Split the data into train and test data sets in 80:20 ratio\n",
        "(train, test) = transformed.randomSplit([0.8, 0.2])"
      ]
    },
    {
      "cell_type": "code",
      "execution_count": null,
      "metadata": {
        "id": "Qia90VnR0plT"
      },
      "outputs": [],
      "source": [
        "from heapq import nlargest\n",
        "from pyspark.ml.evaluation import RegressionEvaluator\n",
        "from pyspark.sql.types import StructType,StructField,IntegerType\n",
        "from pyspark.ml.recommendation import ALS\n",
        "from pyspark.sql import SparkSession ,Row\n",
        "from pyspark.sql.functions import col\n",
        "from pyspark.sql import SQLContext"
      ]
    },
    {
      "cell_type": "code",
      "execution_count": null,
      "metadata": {
        "id": "G54B7uZz0syY"
      },
      "outputs": [],
      "source": [
        "from pyspark.mllib.recommendation import ALS, MatrixFactorizationModel, Rating\n",
        "from pyspark.ml.recommendation import ALS\n",
        "from pyspark import SparkContext\n",
        "from pyspark.ml.feature import StringIndexer\n",
        "from pyspark.ml import Pipeline"
      ]
    },
    {
      "cell_type": "code",
      "execution_count": null,
      "metadata": {
        "id": "c8Qtj32Z0wZR"
      },
      "outputs": [],
      "source": [
        "# Building the system on ALS algorithm \n",
        "\n",
        "als = ALS(maxIter=5,\n",
        "        regParam=0.09, \n",
        "        rank=25,\n",
        "        userCol=\"user_id_index\", \n",
        "        itemCol=\"business_id_index\",\n",
        "        ratingCol=\"stars\", \n",
        "        coldStartStrategy=\"drop\", \n",
        "        nonnegative=True)\n",
        "\n",
        "recommender =als.fit(train)"
      ]
    },
    {
      "cell_type": "markdown",
      "metadata": {
        "id": "agEk-YBq2Jgf"
      },
      "source": [
        "To evaluate the recommender model, we use the metric Root Mean Square Error"
      ]
    },
    {
      "cell_type": "code",
      "execution_count": null,
      "metadata": {
        "id": "m-dZc7Kt2JQG"
      },
      "outputs": [],
      "source": [
        "evaluator= RegressionEvaluator(metricName=\"rmse\",labelCol=\"stars\",predictionCol=\"prediction\")\n",
        "predictions= recommender.transform(test)\n",
        "rmse=evaluator.evaluate(predictions)\n",
        "print(\"RMSE=\"+str(rmse))"
      ]
    },
    {
      "cell_type": "markdown",
      "metadata": {
        "id": "UZkaAhyq2Z7O"
      },
      "source": [
        "**RESULTS OF RECOMMENDER SYSTEM**\n",
        "\n",
        "Checking out the results of the system for a random user_id= 952"
      ]
    },
    {
      "cell_type": "code",
      "execution_count": null,
      "metadata": {
        "id": "NqDkLnei2xej"
      },
      "outputs": [],
      "source": [
        "test = recommender.recommendForAllUsers(20).filter(col('user_id_index')==952).select(\"recommendations\").collect()\n",
        "Restaurant_recm = []\n",
        "for item in test[0][0]:        \n",
        "    Restaurant_recm.append(item.business_id_index)\n",
        "schema = StructType([StructField(\"business_id_index\",IntegerType(),True)])\n",
        "restaurants = spark.createDataFrame(Restaurant_recm,IntegerType()).toDF(\"business_id_index\")\n",
        "transformed\\\n",
        ".select(['business_id', 'user_id', 'stars', 'categories'])\\\n",
        ".filter(col('user_id_index')==7313)\\\n",
        ".show()\n",
        "restaurants\\\n",
        ".join(transformed, on = 'business_id_index', how = 'inner')\\\n",
        ".select(['business_id', 'stars', 'categories', 'name'])\\\n",
        ".drop_duplicates(subset=['name'])\\\n",
        ".show()\n"
      ]
    }
  ],
  "metadata": {
    "colab": {
      "provenance": [],
      "collapsed_sections": [
        "nXXAQwylEqeT",
        "qLUs7M34E1Ve",
        "oa_gp7864VSq",
        "D-BnLiDC159i",
        "51TG0eE8BUc-",
        "wQ9rBFf0rMMe",
        "lPBW6b0WuXS7",
        "MoMtkiNtrW9f"
      ]
    },
    "gpuClass": "standard",
    "kernelspec": {
      "display_name": "Python 3",
      "name": "python3"
    },
    "language_info": {
      "name": "python"
    }
  },
  "nbformat": 4,
  "nbformat_minor": 0
}